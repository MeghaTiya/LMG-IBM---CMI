{
 "cells": [
  {
   "cell_type": "code",
   "execution_count": 1,
   "metadata": {},
   "outputs": [
    {
     "ename": "FileNotFoundError",
     "evalue": "[Errno 2] No such file or directory: 'C:/Users/Dell/LMG IBM/CC2Vec/predlog.pkl'",
     "output_type": "error",
     "traceback": [
      "\u001b[1;31m---------------------------------------------------------------------------\u001b[0m",
      "\u001b[1;31mFileNotFoundError\u001b[0m                         Traceback (most recent call last)",
      "\u001b[1;32m<ipython-input-1-cbf176039f35>\u001b[0m in \u001b[0;36m<module>\u001b[1;34m\u001b[0m\n\u001b[0;32m      6\u001b[0m \u001b[1;33m\u001b[0m\u001b[0m\n\u001b[0;32m      7\u001b[0m \u001b[0mpathref\u001b[0m \u001b[1;33m=\u001b[0m \u001b[1;34m'C:/Users/Dell/LMG IBM/CC2Vec/predlog.pkl'\u001b[0m\u001b[1;33m\u001b[0m\u001b[1;33m\u001b[0m\u001b[0m\n\u001b[1;32m----> 8\u001b[1;33m \u001b[0mfile\u001b[0m \u001b[1;33m=\u001b[0m \u001b[0mopen\u001b[0m\u001b[1;33m(\u001b[0m\u001b[0mpathref\u001b[0m\u001b[1;33m,\u001b[0m \u001b[1;34m'rb'\u001b[0m\u001b[1;33m)\u001b[0m\u001b[1;33m\u001b[0m\u001b[1;33m\u001b[0m\u001b[0m\n\u001b[0m\u001b[0;32m      9\u001b[0m \u001b[0mpreddata\u001b[0m \u001b[1;33m=\u001b[0m \u001b[0mpickle\u001b[0m\u001b[1;33m.\u001b[0m\u001b[0mload\u001b[0m\u001b[1;33m(\u001b[0m\u001b[0mfile\u001b[0m\u001b[1;33m)\u001b[0m\u001b[1;33m\u001b[0m\u001b[1;33m\u001b[0m\u001b[0m\n\u001b[0;32m     10\u001b[0m \u001b[1;33m\u001b[0m\u001b[0m\n",
      "\u001b[1;31mFileNotFoundError\u001b[0m: [Errno 2] No such file or directory: 'C:/Users/Dell/LMG IBM/CC2Vec/predlog.pkl'"
     ]
    }
   ],
   "source": [
    "import pickle\n",
    "from nltk.translate.bleu_score import sentence_bleu\n",
    "path ='C:/Users/Dell/LMG IBM/CC2Vec/data+model/data/lmg/test.pkl' #path='/root/……/aus_openface.pkl' Path where the pkl file is located\n",
    "f = open(path,'rb')\n",
    "data = pickle.load(f)\n",
    "\n",
    "pathref = 'C:/Users/Dell/LMG IBM/CC2Vec/predlog.pkl' \n",
    "file = open(pathref, 'rb')\n",
    "preddata = pickle.load(file)\n",
    "\n",
    "def bleu_score(data, num):\n",
    "    reference = data[0][num-1].split()\n",
    "    candidate = preddata[num-1].split()\n",
    "    score = sentence_bleu(reference, candidate)\n",
    "    return score\n",
    "    \n",
    "print(type(bleu_score(data, 3)))  \n",
    "\n",
    "\n",
    "\n",
    "def csvdict(data, num):\n",
    "    dictforcsv = {}\n",
    "    dictforcsv['Code Change'] = data[1][num-1]\n",
    "    dictforcsv['Given Log Message'] =  data[0][num-1]\n",
    "    dictforcsv['Predicted Log Message'] = preddata[num-1]\n",
    "    dictforcsv['BLEU-4 Score'] = bleu_score(data, num)\n",
    "    return dictforcsv\n",
    "\n",
    "\n",
    "\n",
    "### Write to csv file\n",
    "### Add code for predicted log message and bleu4 score"
   ]
  },
  {
   "cell_type": "code",
   "execution_count": null,
   "metadata": {},
   "outputs": [],
   "source": [
    "import os\n",
    "import csv\n",
    "\n",
    "csvlist = []\n",
    "for i in range(2216):\n",
    "    csvlist.append(csvdict(data, i+1))\n",
    "#print(csvlist)\n",
    "\n",
    "fields = ['Code Change', 'Given Log Message', 'Predicted Log Message', 'BLEU-4 Score']\n",
    "\n",
    "testcsvfile = \"testdata.csv\"\n",
    "\n",
    "# writing to csv file \n",
    "with open(testcsvfile, 'w') as csvfile: \n",
    "    # creating a csv dict writer object \n",
    "    writer = csv.DictWriter(csvfile, fieldnames = fields) \n",
    "        \n",
    "    # writing headers (field names) \n",
    "    writer.writeheader() \n",
    "        \n",
    "    # writing data rows \n",
    "    writer.writerows(csvlist) \n",
    "    \n"
   ]
  },
  {
   "cell_type": "code",
   "execution_count": 4,
   "metadata": {},
   "outputs": [],
   "source": [
    "import pickle as pkl\n",
    "import pandas as pd\n",
    "with open(\"CC2Vec/CSV/train.pkl\", \"rb\") as f:\n",
    "    object = pkl.load(f)\n",
    "    \n",
    "traindf = pd.DataFrame(object)\n",
    "traindf.to_csv(r'file.csv')"
   ]
  },
  {
   "cell_type": "code",
   "execution_count": 7,
   "metadata": {},
   "outputs": [],
   "source": []
  },
  {
   "cell_type": "code",
   "execution_count": 19,
   "metadata": {},
   "outputs": [],
   "source": [
    "import pickle as pkl\n",
    "import pandas as pd\n",
    "import os\n",
    "import csv\n",
    "\n",
    "path ='CC2Vec/CC2Vec/smalltrain.pkl' #path='/root/……/aus_openface.pkl' Path where the pkl file is located\n",
    "f = open(path,'rb')\n",
    "data = pickle.load(f)\n",
    "\n",
    "fileread = pd.read_pickle(path, compression='infer')\n",
    "#print(fileread)\n",
    "\n",
    "    \n",
    "def traindict(data, num):\n",
    "    train = {}\n",
    "    train['Code_Change'] = data[1][num-1]\n",
    "    return train\n",
    "\n",
    "\n",
    "\n",
    "csvlist = []\n",
    "for i in range(len(data[0])):\n",
    "    csvlist.append(traindict(data, i+1))\n",
    "#print(csvlist)\n",
    "\n",
    "fields = ['Code_Change']\n",
    "\n",
    "testcsvfile = \"traincc.csv\"\n",
    "\n",
    "# writing to csv file \n",
    "with open(testcsvfile, 'w') as csvfile: \n",
    "    # creating a csv dict writer object \n",
    "    writer = csv.DictWriter(csvfile, fieldnames = fields) \n",
    "        \n",
    "    # writing headers (field names) \n",
    "    writer.writeheader() \n",
    "        \n",
    "    # writing data rows \n",
    "    writer.writerows(csvlist) "
   ]
  }
 ],
 "metadata": {
  "kernelspec": {
   "display_name": "Python 3",
   "language": "python",
   "name": "python3"
  },
  "language_info": {
   "codemirror_mode": {
    "name": "ipython",
    "version": 3
   },
   "file_extension": ".py",
   "mimetype": "text/x-python",
   "name": "python",
   "nbconvert_exporter": "python",
   "pygments_lexer": "ipython3",
   "version": "3.8.5"
  }
 },
 "nbformat": 4,
 "nbformat_minor": 4
}
